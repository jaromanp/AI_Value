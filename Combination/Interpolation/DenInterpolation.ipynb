{
 "cells": [
  {
   "cell_type": "code",
   "execution_count": 1,
   "metadata": {},
   "outputs": [],
   "source": [
    "import pandas as pd\n",
    "import os"
   ]
  },
  {
   "cell_type": "code",
   "execution_count": 2,
   "metadata": {},
   "outputs": [
    {
     "name": "stdout",
     "output_type": "stream",
     "text": [
      "FEYE\n"
     ]
    }
   ],
   "source": [
    "import pathlib\n",
    "\n",
    "# define the path\n",
    "currentDirectory = pathlib.Path('.')\n",
    "\n",
    "# define the pattern\n",
    "currentPattern = 'FEYE'\n",
    "\n",
    "for currentFile in currentDirectory.glob(currentPattern):\n",
    "    print(currentFile)"
   ]
  },
  {
   "cell_type": "code",
   "execution_count": 3,
   "metadata": {},
   "outputs": [
    {
     "name": "stdout",
     "output_type": "stream",
     "text": [
      "FEYE\\RealDenominadorFEYE.csv\n"
     ]
    }
   ],
   "source": [
    "#company = 'CHKP'\n",
    "filename = 'RealDenominador' + str(currentFile) + '.csv'\n",
    "\n",
    "print(currentFile/filename)"
   ]
  },
  {
   "cell_type": "code",
   "execution_count": 4,
   "metadata": {},
   "outputs": [
    {
     "data": {
      "text/html": [
       "<div>\n",
       "<style scoped>\n",
       "    .dataframe tbody tr th:only-of-type {\n",
       "        vertical-align: middle;\n",
       "    }\n",
       "\n",
       "    .dataframe tbody tr th {\n",
       "        vertical-align: top;\n",
       "    }\n",
       "\n",
       "    .dataframe thead th {\n",
       "        text-align: right;\n",
       "    }\n",
       "</style>\n",
       "<table border=\"1\" class=\"dataframe\">\n",
       "  <thead>\n",
       "    <tr style=\"text-align: right;\">\n",
       "      <th></th>\n",
       "      <th>DATES</th>\n",
       "      <th>D Revenue</th>\n",
       "      <th>U CR</th>\n",
       "      <th>D OE</th>\n",
       "      <th>D NOI</th>\n",
       "      <th>U CAPEX</th>\n",
       "      <th>U WK</th>\n",
       "      <th>D FCF</th>\n",
       "    </tr>\n",
       "  </thead>\n",
       "  <tbody>\n",
       "    <tr>\n",
       "      <th>0</th>\n",
       "      <td>2017-03-31</td>\n",
       "      <td>35413.051543</td>\n",
       "      <td>6626.901060</td>\n",
       "      <td>49587.501459</td>\n",
       "      <td>1769.566048</td>\n",
       "      <td>7485.421778</td>\n",
       "      <td>215978.231865</td>\n",
       "      <td>20634.579108</td>\n",
       "    </tr>\n",
       "    <tr>\n",
       "      <th>1</th>\n",
       "      <td>2017-06-30</td>\n",
       "      <td>32423.941177</td>\n",
       "      <td>5696.998180</td>\n",
       "      <td>43225.640783</td>\n",
       "      <td>1882.853339</td>\n",
       "      <td>7665.921601</td>\n",
       "      <td>217100.380061</td>\n",
       "      <td>21129.726015</td>\n",
       "    </tr>\n",
       "    <tr>\n",
       "      <th>2</th>\n",
       "      <td>2017-09-30</td>\n",
       "      <td>34194.149566</td>\n",
       "      <td>3149.147548</td>\n",
       "      <td>30944.118006</td>\n",
       "      <td>1507.859726</td>\n",
       "      <td>3958.645092</td>\n",
       "      <td>220701.820385</td>\n",
       "      <td>23423.388086</td>\n",
       "    </tr>\n",
       "    <tr>\n",
       "      <th>3</th>\n",
       "      <td>2017-12-31</td>\n",
       "      <td>28356.553369</td>\n",
       "      <td>3066.601392</td>\n",
       "      <td>16698.976290</td>\n",
       "      <td>1610.966252</td>\n",
       "      <td>3757.802882</td>\n",
       "      <td>214603.831795</td>\n",
       "      <td>25285.729822</td>\n",
       "    </tr>\n",
       "    <tr>\n",
       "      <th>4</th>\n",
       "      <td>2018-03-31</td>\n",
       "      <td>25489.686412</td>\n",
       "      <td>2927.163551</td>\n",
       "      <td>11643.127444</td>\n",
       "      <td>1718.528935</td>\n",
       "      <td>3704.055377</td>\n",
       "      <td>214603.831795</td>\n",
       "      <td>19983.035926</td>\n",
       "    </tr>\n",
       "  </tbody>\n",
       "</table>\n",
       "</div>"
      ],
      "text/plain": [
       "       DATES     D Revenue         U CR          D OE        D NOI  \\\n",
       "0 2017-03-31  35413.051543  6626.901060  49587.501459  1769.566048   \n",
       "1 2017-06-30  32423.941177  5696.998180  43225.640783  1882.853339   \n",
       "2 2017-09-30  34194.149566  3149.147548  30944.118006  1507.859726   \n",
       "3 2017-12-31  28356.553369  3066.601392  16698.976290  1610.966252   \n",
       "4 2018-03-31  25489.686412  2927.163551  11643.127444  1718.528935   \n",
       "\n",
       "       U CAPEX           U WK         D FCF  \n",
       "0  7485.421778  215978.231865  20634.579108  \n",
       "1  7665.921601  217100.380061  21129.726015  \n",
       "2  3958.645092  220701.820385  23423.388086  \n",
       "3  3757.802882  214603.831795  25285.729822  \n",
       "4  3704.055377  214603.831795  19983.035926  "
      ]
     },
     "execution_count": 4,
     "metadata": {},
     "output_type": "execute_result"
    }
   ],
   "source": [
    "df = pd.read_csv(currentFile/filename)\n",
    "df[ 'DATES' ] = pd.to_datetime(df['DATES'])\n",
    "df.head()"
   ]
  },
  {
   "cell_type": "code",
   "execution_count": 5,
   "metadata": {},
   "outputs": [
    {
     "data": {
      "text/html": [
       "<div>\n",
       "<style scoped>\n",
       "    .dataframe tbody tr th:only-of-type {\n",
       "        vertical-align: middle;\n",
       "    }\n",
       "\n",
       "    .dataframe tbody tr th {\n",
       "        vertical-align: top;\n",
       "    }\n",
       "\n",
       "    .dataframe thead th {\n",
       "        text-align: right;\n",
       "    }\n",
       "</style>\n",
       "<table border=\"1\" class=\"dataframe\">\n",
       "  <thead>\n",
       "    <tr style=\"text-align: right;\">\n",
       "      <th></th>\n",
       "      <th>D Revenue</th>\n",
       "      <th>U CR</th>\n",
       "      <th>D OE</th>\n",
       "      <th>D NOI</th>\n",
       "      <th>U CAPEX</th>\n",
       "      <th>U WK</th>\n",
       "      <th>D FCF</th>\n",
       "    </tr>\n",
       "    <tr>\n",
       "      <th>DATES</th>\n",
       "      <th></th>\n",
       "      <th></th>\n",
       "      <th></th>\n",
       "      <th></th>\n",
       "      <th></th>\n",
       "      <th></th>\n",
       "      <th></th>\n",
       "    </tr>\n",
       "  </thead>\n",
       "  <tbody>\n",
       "    <tr>\n",
       "      <th>2017-04-02</th>\n",
       "      <td>35413.051543</td>\n",
       "      <td>6626.901060</td>\n",
       "      <td>49587.501459</td>\n",
       "      <td>1769.566048</td>\n",
       "      <td>7485.421778</td>\n",
       "      <td>215978.231865</td>\n",
       "      <td>20634.579108</td>\n",
       "    </tr>\n",
       "    <tr>\n",
       "      <th>2017-04-09</th>\n",
       "      <td>NaN</td>\n",
       "      <td>NaN</td>\n",
       "      <td>NaN</td>\n",
       "      <td>NaN</td>\n",
       "      <td>NaN</td>\n",
       "      <td>NaN</td>\n",
       "      <td>NaN</td>\n",
       "    </tr>\n",
       "    <tr>\n",
       "      <th>2017-04-16</th>\n",
       "      <td>NaN</td>\n",
       "      <td>NaN</td>\n",
       "      <td>NaN</td>\n",
       "      <td>NaN</td>\n",
       "      <td>NaN</td>\n",
       "      <td>NaN</td>\n",
       "      <td>NaN</td>\n",
       "    </tr>\n",
       "    <tr>\n",
       "      <th>2017-04-23</th>\n",
       "      <td>NaN</td>\n",
       "      <td>NaN</td>\n",
       "      <td>NaN</td>\n",
       "      <td>NaN</td>\n",
       "      <td>NaN</td>\n",
       "      <td>NaN</td>\n",
       "      <td>NaN</td>\n",
       "    </tr>\n",
       "    <tr>\n",
       "      <th>2017-04-30</th>\n",
       "      <td>NaN</td>\n",
       "      <td>NaN</td>\n",
       "      <td>NaN</td>\n",
       "      <td>NaN</td>\n",
       "      <td>NaN</td>\n",
       "      <td>NaN</td>\n",
       "      <td>NaN</td>\n",
       "    </tr>\n",
       "    <tr>\n",
       "      <th>...</th>\n",
       "      <td>...</td>\n",
       "      <td>...</td>\n",
       "      <td>...</td>\n",
       "      <td>...</td>\n",
       "      <td>...</td>\n",
       "      <td>...</td>\n",
       "      <td>...</td>\n",
       "    </tr>\n",
       "    <tr>\n",
       "      <th>2020-03-08</th>\n",
       "      <td>NaN</td>\n",
       "      <td>NaN</td>\n",
       "      <td>NaN</td>\n",
       "      <td>NaN</td>\n",
       "      <td>NaN</td>\n",
       "      <td>NaN</td>\n",
       "      <td>NaN</td>\n",
       "    </tr>\n",
       "    <tr>\n",
       "      <th>2020-03-15</th>\n",
       "      <td>NaN</td>\n",
       "      <td>NaN</td>\n",
       "      <td>NaN</td>\n",
       "      <td>NaN</td>\n",
       "      <td>NaN</td>\n",
       "      <td>NaN</td>\n",
       "      <td>NaN</td>\n",
       "    </tr>\n",
       "    <tr>\n",
       "      <th>2020-03-22</th>\n",
       "      <td>NaN</td>\n",
       "      <td>NaN</td>\n",
       "      <td>NaN</td>\n",
       "      <td>NaN</td>\n",
       "      <td>NaN</td>\n",
       "      <td>NaN</td>\n",
       "      <td>NaN</td>\n",
       "    </tr>\n",
       "    <tr>\n",
       "      <th>2020-03-29</th>\n",
       "      <td>NaN</td>\n",
       "      <td>NaN</td>\n",
       "      <td>NaN</td>\n",
       "      <td>NaN</td>\n",
       "      <td>NaN</td>\n",
       "      <td>NaN</td>\n",
       "      <td>NaN</td>\n",
       "    </tr>\n",
       "    <tr>\n",
       "      <th>2020-04-05</th>\n",
       "      <td>9200.481469</td>\n",
       "      <td>3980.913626</td>\n",
       "      <td>6308.227811</td>\n",
       "      <td>291.638684</td>\n",
       "      <td>2028.621617</td>\n",
       "      <td>61311.607540</td>\n",
       "      <td>17056.462370</td>\n",
       "    </tr>\n",
       "  </tbody>\n",
       "</table>\n",
       "<p>158 rows × 7 columns</p>\n",
       "</div>"
      ],
      "text/plain": [
       "               D Revenue         U CR          D OE        D NOI      U CAPEX  \\\n",
       "DATES                                                                           \n",
       "2017-04-02  35413.051543  6626.901060  49587.501459  1769.566048  7485.421778   \n",
       "2017-04-09           NaN          NaN           NaN          NaN          NaN   \n",
       "2017-04-16           NaN          NaN           NaN          NaN          NaN   \n",
       "2017-04-23           NaN          NaN           NaN          NaN          NaN   \n",
       "2017-04-30           NaN          NaN           NaN          NaN          NaN   \n",
       "...                  ...          ...           ...          ...          ...   \n",
       "2020-03-08           NaN          NaN           NaN          NaN          NaN   \n",
       "2020-03-15           NaN          NaN           NaN          NaN          NaN   \n",
       "2020-03-22           NaN          NaN           NaN          NaN          NaN   \n",
       "2020-03-29           NaN          NaN           NaN          NaN          NaN   \n",
       "2020-04-05   9200.481469  3980.913626   6308.227811   291.638684  2028.621617   \n",
       "\n",
       "                     U WK         D FCF  \n",
       "DATES                                    \n",
       "2017-04-02  215978.231865  20634.579108  \n",
       "2017-04-09            NaN           NaN  \n",
       "2017-04-16            NaN           NaN  \n",
       "2017-04-23            NaN           NaN  \n",
       "2017-04-30            NaN           NaN  \n",
       "...                   ...           ...  \n",
       "2020-03-08            NaN           NaN  \n",
       "2020-03-15            NaN           NaN  \n",
       "2020-03-22            NaN           NaN  \n",
       "2020-03-29            NaN           NaN  \n",
       "2020-04-05   61311.607540  17056.462370  \n",
       "\n",
       "[158 rows x 7 columns]"
      ]
     },
     "execution_count": 5,
     "metadata": {},
     "output_type": "execute_result"
    }
   ],
   "source": [
    "df1 = df.set_index('DATES').resample('1w').mean()\n",
    "df1"
   ]
  },
  {
   "cell_type": "code",
   "execution_count": 6,
   "metadata": {},
   "outputs": [],
   "source": [
    "#df1[df1['D REVENUE'].isna()]"
   ]
  },
  {
   "cell_type": "code",
   "execution_count": 7,
   "metadata": {},
   "outputs": [],
   "source": [
    "#df1['Revenue'].interpolate('linear').plot()\n",
    "#pd.DataFrame(df['Revenue'], index=df['Date']).interpolate(method='time')"
   ]
  },
  {
   "cell_type": "code",
   "execution_count": 8,
   "metadata": {},
   "outputs": [
    {
     "data": {
      "text/plain": [
       "<matplotlib.axes._subplots.AxesSubplot at 0x1e762e281c8>"
      ]
     },
     "execution_count": 8,
     "metadata": {},
     "output_type": "execute_result"
    },
    {
     "data": {
      "image/png": "[encoded data removed]",
      "text/plain": [
       "<Figure size 432x288 with 1 Axes>"
      ]
     },
     "metadata": {
      "needs_background": "light"
     },
     "output_type": "display_data"
    }
   ],
   "source": [
    "df1['D Revenue'].interpolate('linear').plot()"
   ]
  },
  {
   "cell_type": "code",
   "execution_count": 9,
   "metadata": {},
   "outputs": [
    {
     "data": {
      "text/plain": [
       "<matplotlib.axes._subplots.AxesSubplot at 0x1e761d78a88>"
      ]
     },
     "execution_count": 9,
     "metadata": {},
     "output_type": "execute_result"
    },
    {
     "data": {
      "image/png": "[encoded data removed]",
      "text/plain": [
       "<Figure size 432x288 with 1 Axes>"
      ]
     },
     "metadata": {
      "needs_background": "light"
     },
     "output_type": "display_data"
    }
   ],
   "source": [
    "df1['U CR'].interpolate('linear').plot()"
   ]
  },
  {
   "cell_type": "code",
   "execution_count": 10,
   "metadata": {},
   "outputs": [
    {
     "data": {
      "text/plain": [
       "<matplotlib.axes._subplots.AxesSubplot at 0x1e7633634c8>"
      ]
     },
     "execution_count": 10,
     "metadata": {},
     "output_type": "execute_result"
    },
    {
     "data": {
      "image/png": "[encoded data removed]",
      "text/plain": [
       "<Figure size 432x288 with 1 Axes>"
      ]
     },
     "metadata": {
      "needs_background": "light"
     },
     "output_type": "display_data"
    }
   ],
   "source": [
    "df1['D OE'].interpolate('linear').plot()"
   ]
  },
  {
   "cell_type": "code",
   "execution_count": 11,
   "metadata": {},
   "outputs": [
    {
     "data": {
      "text/plain": [
       "<matplotlib.axes._subplots.AxesSubplot at 0x1e763436708>"
      ]
     },
     "execution_count": 11,
     "metadata": {},
     "output_type": "execute_result"
    },
    {
     "data": {
      "image/png": "[encoded data removed]",
      "text/plain": [
       "<Figure size 432x288 with 1 Axes>"
      ]
     },
     "metadata": {
      "needs_background": "light"
     },
     "output_type": "display_data"
    }
   ],
   "source": [
    "df1['U NOI'].interpolate('linear').plot()"
   ]
  },
  {
   "cell_type": "code",
   "execution_count": 12,
   "metadata": {},
   "outputs": [
    {
     "data": {
      "text/plain": [
       "<matplotlib.axes._subplots.AxesSubplot at 0x1e7634e6748>"
      ]
     },
     "execution_count": 12,
     "metadata": {},
     "output_type": "execute_result"
    },
    {
     "data": {
      "image/png": "[encoded data removed]",
      "text/plain": [
       "<Figure size 432x288 with 1 Axes>"
      ]
     },
     "metadata": {
      "needs_background": "light"
     },
     "output_type": "display_data"
    }
   ],
   "source": [
    "df1['U CAPEX'].interpolate('linear').plot()"
   ]
  },
  {
   "cell_type": "code",
   "execution_count": 13,
   "metadata": {},
   "outputs": [
    {
     "data": {
      "text/plain": [
       "<matplotlib.axes._subplots.AxesSubplot at 0x1e76356e048>"
      ]
     },
     "execution_count": 13,
     "metadata": {},
     "output_type": "execute_result"
    },
    {
     "data": {
      "image/png": "[encoded data removed]",
      "text/plain": [
       "<Figure size 432x288 with 1 Axes>"
      ]
     },
     "metadata": {
      "needs_background": "light"
     },
     "output_type": "display_data"
    }
   ],
   "source": [
    "df1['U WK'].interpolate('linear').plot()"
   ]
  },
  {
   "cell_type": "code",
   "execution_count": 14,
   "metadata": {
    "scrolled": true
   },
   "outputs": [
    {
     "data": {
      "text/plain": [
       "<matplotlib.axes._subplots.AxesSubplot at 0x1e76362fac8>"
      ]
     },
     "execution_count": 14,
     "metadata": {},
     "output_type": "execute_result"
    },
    {
     "data": {
      "image/png": "[encoded data removed]",
      "text/plain": [
       "<Figure size 432x288 with 1 Axes>"
      ]
     },
     "metadata": {
      "needs_background": "light"
     },
     "output_type": "display_data"
    }
   ],
   "source": [
    "df1['D FCF'].interpolate('linear').plot()"
   ]
  },
  {
   "cell_type": "code",
   "execution_count": 15,
   "metadata": {},
   "outputs": [],
   "source": [
    "df1['D Revenue'] = df1['D Revenue'].interpolate('linear')\n",
    "df1['U CR'] = df1['U CR'].interpolate('linear')\n",
    "df1['D OE'] = df1['D OE'].interpolate('linear')\n",
    "df1['U NOI'] = df1['U NOI'].interpolate('linear')\n",
    "df1['U CAPEX'] = df1['U CAPEX'].interpolate('linear')\n",
    "df1['U WK'] = df1['U WK'].interpolate('linear')\n",
    "df1['D FCF'] = df1['D FCF'].interpolate('linear')"
   ]
  },
  {
   "cell_type": "code",
   "execution_count": 16,
   "metadata": {},
   "outputs": [
    {
     "data": {
      "text/plain": [
       "<bound method DataFrame.info of                D Revenue         U CR          D OE        D NOI      U CAPEX  \\\n",
       "DATES                                                                           \n",
       "2017-04-02  35413.051543  6626.901060  49587.501459  1769.566048  7485.421778   \n",
       "2017-04-09  35183.119976  6555.370069  49098.127561  1778.280455  7499.306380   \n",
       "2017-04-16  34953.188410  6483.839078  48608.753663  1786.994862  7513.190982   \n",
       "2017-04-23  34723.256843  6412.308088  48119.379765  1795.709269  7527.075584   \n",
       "2017-04-30  34493.325276  6340.777097  47630.005867  1804.423676  7540.960185   \n",
       "...                  ...          ...           ...          ...          ...   \n",
       "2020-03-08   9620.404989  4088.445236   6729.489740   281.003844  1941.155711   \n",
       "2020-03-15   9515.424109  4061.562333   6624.174258   283.662554  1963.022187   \n",
       "2020-03-22   9410.443229  4034.679431   6518.858775   286.321264  1984.888664   \n",
       "2020-03-29   9305.462349  4007.796529   6413.543293   288.979974  2006.755141   \n",
       "2020-04-05   9200.481469  3980.913626   6308.227811   291.638684  2028.621617   \n",
       "\n",
       "                     U WK         D FCF  \n",
       "DATES                                    \n",
       "2017-04-02  215978.231865  20634.579108  \n",
       "2017-04-09  216064.550957  20672.667332  \n",
       "2017-04-16  216150.870049  20710.755555  \n",
       "2017-04-23  216237.189141  20748.843779  \n",
       "2017-04-30  216323.508233  20786.932002  \n",
       "...                   ...           ...  \n",
       "2020-03-08   60245.232056  16032.789861  \n",
       "2020-03-15   60511.825927  16288.707988  \n",
       "2020-03-22   60778.419798  16544.626115  \n",
       "2020-03-29   61045.013669  16800.544242  \n",
       "2020-04-05   61311.607540  17056.462370  \n",
       "\n",
       "[158 rows x 7 columns]>"
      ]
     },
     "execution_count": 16,
     "metadata": {},
     "output_type": "execute_result"
    }
   ],
   "source": [
    "df1.info"
   ]
  },
  {
   "cell_type": "code",
   "execution_count": 17,
   "metadata": {},
   "outputs": [
    {
     "data": {
      "text/plain": [
       "WindowsPath('FEYE/InterpolatedDenWeekFEYE.csv')"
      ]
     },
     "execution_count": 17,
     "metadata": {},
     "output_type": "execute_result"
    }
   ],
   "source": [
    "outfile = 'InterpolatedDenWeek' + str(currentFile) + '.csv'\n",
    "currentFile/outfile"
   ]
  },
  {
   "cell_type": "code",
   "execution_count": 18,
   "metadata": {},
   "outputs": [],
   "source": [
    "df1.to_csv(currentFile/outfile)\n",
    "#df1.to_csv(\"InterpolatedDenWeekCHKP.csv\")"
   ]
  },
  {
   "cell_type": "code",
   "execution_count": 19,
   "metadata": {},
   "outputs": [],
   "source": [
    "den = pd.read_csv(currentFile/outfile)"
   ]
  },
  {
   "cell_type": "code",
   "execution_count": 20,
   "metadata": {
    "scrolled": true
   },
   "outputs": [
    {
     "data": {
      "text/plain": [
       "<bound method DataFrame.info of           DATES     D Revenue         U CR          D OE        D NOI  \\\n",
       "0    2017-04-02  35413.051543  6626.901060  49587.501459  1769.566048   \n",
       "1    2017-04-09  35183.119976  6555.370069  49098.127561  1778.280455   \n",
       "2    2017-04-16  34953.188410  6483.839078  48608.753663  1786.994862   \n",
       "3    2017-04-23  34723.256843  6412.308088  48119.379765  1795.709269   \n",
       "4    2017-04-30  34493.325276  6340.777097  47630.005867  1804.423676   \n",
       "..          ...           ...          ...           ...          ...   \n",
       "153  2020-03-08   9620.404989  4088.445236   6729.489740   281.003844   \n",
       "154  2020-03-15   9515.424109  4061.562333   6624.174258   283.662554   \n",
       "155  2020-03-22   9410.443229  4034.679431   6518.858775   286.321264   \n",
       "156  2020-03-29   9305.462349  4007.796529   6413.543293   288.979974   \n",
       "157  2020-04-05   9200.481469  3980.913626   6308.227811   291.638684   \n",
       "\n",
       "         U CAPEX           U WK         D FCF  \n",
       "0    7485.421778  215978.231865  20634.579108  \n",
       "1    7499.306380  216064.550957  20672.667332  \n",
       "2    7513.190982  216150.870049  20710.755555  \n",
       "3    7527.075584  216237.189141  20748.843779  \n",
       "4    7540.960185  216323.508233  20786.932002  \n",
       "..           ...            ...           ...  \n",
       "153  1941.155711   60245.232056  16032.789861  \n",
       "154  1963.022187   60511.825927  16288.707988  \n",
       "155  1984.888664   60778.419798  16544.626115  \n",
       "156  2006.755141   61045.013669  16800.544242  \n",
       "157  2028.621617   61311.607540  17056.462370  \n",
       "\n",
       "[158 rows x 8 columns]>"
      ]
     },
     "execution_count": 20,
     "metadata": {},
     "output_type": "execute_result"
    }
   ],
   "source": [
    "den.info"
   ]
  },
  {
   "cell_type": "code",
   "execution_count": null,
   "metadata": {},
   "outputs": [],
   "source": []
  },
  {
   "cell_type": "code",
   "execution_count": null,
   "metadata": {},
   "outputs": [],
   "source": []
  }
 ],
 "metadata": {
  "kernelspec": {
   "display_name": "Python 3",
   "language": "python",
   "name": "python3"
  },
  "language_info": {
   "codemirror_mode": {
    "name": "ipython",
    "version": 3
   },
   "file_extension": ".py",
   "mimetype": "text/x-python",
   "name": "python",
   "nbconvert_exporter": "python",
   "pygments_lexer": "ipython3",
   "version": "3.7.7"
  }
 },
 "nbformat": 4,
 "nbformat_minor": 4
}
