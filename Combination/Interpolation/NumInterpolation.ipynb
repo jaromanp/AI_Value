{
 "cells": [
  {
   "cell_type": "code",
   "execution_count": 1,
   "metadata": {},
   "outputs": [],
   "source": [
    "import pandas as pd\n",
    "import os"
   ]
  },
  {
   "cell_type": "code",
   "execution_count": 2,
   "metadata": {},
   "outputs": [
    {
     "name": "stdout",
     "output_type": "stream",
     "text": [
      "FEYE\n"
     ]
    }
   ],
   "source": [
    "import pathlib\n",
    "\n",
    "# define the path\n",
    "currentDirectory = pathlib.Path('.')\n",
    "\n",
    "# define the pattern\n",
    "currentPattern = 'FEYE'\n",
    "\n",
    "for currentFile in currentDirectory.glob(currentPattern):\n",
    "    print(currentFile)"
   ]
  },
  {
   "cell_type": "code",
   "execution_count": 21,
   "metadata": {},
   "outputs": [
    {
     "name": "stdout",
     "output_type": "stream",
     "text": [
      "FEYE\\RealNumeradorFEYE.csv\n"
     ]
    }
   ],
   "source": [
    "#company = 'CHKP'\n",
    "filename = 'RealNumerador' + str(currentFile) + '.csv'\n",
    "\n",
    "print(currentFile/filename)"
   ]
  },
  {
   "cell_type": "code",
   "execution_count": 4,
   "metadata": {},
   "outputs": [
    {
     "data": {
      "text/html": [
       "<div>\n",
       "<style scoped>\n",
       "    .dataframe tbody tr th:only-of-type {\n",
       "        vertical-align: middle;\n",
       "    }\n",
       "\n",
       "    .dataframe tbody tr th {\n",
       "        vertical-align: top;\n",
       "    }\n",
       "\n",
       "    .dataframe thead th {\n",
       "        text-align: right;\n",
       "    }\n",
       "</style>\n",
       "<table border=\"1\" class=\"dataframe\">\n",
       "  <thead>\n",
       "    <tr style=\"text-align: right;\">\n",
       "      <th></th>\n",
       "      <th>DATES</th>\n",
       "      <th>U Revenue</th>\n",
       "      <th>D CR</th>\n",
       "      <th>U OE</th>\n",
       "      <th>U NOI</th>\n",
       "      <th>D CAPEX</th>\n",
       "      <th>D WK</th>\n",
       "      <th>U FCF</th>\n",
       "    </tr>\n",
       "  </thead>\n",
       "  <tbody>\n",
       "    <tr>\n",
       "      <th>0</th>\n",
       "      <td>2017-03-31</td>\n",
       "      <td>16619.744506</td>\n",
       "      <td>15250.074242</td>\n",
       "      <td>21509.084891</td>\n",
       "      <td>1068.570674</td>\n",
       "      <td>2905.476331</td>\n",
       "      <td>142273.390052</td>\n",
       "      <td>16163.666714</td>\n",
       "    </tr>\n",
       "    <tr>\n",
       "      <th>1</th>\n",
       "      <td>2017-06-30</td>\n",
       "      <td>16978.147446</td>\n",
       "      <td>15561.343148</td>\n",
       "      <td>18625.524959</td>\n",
       "      <td>1019.411726</td>\n",
       "      <td>2822.447887</td>\n",
       "      <td>131877.341625</td>\n",
       "      <td>15494.099834</td>\n",
       "    </tr>\n",
       "    <tr>\n",
       "      <th>2</th>\n",
       "      <td>2017-09-30</td>\n",
       "      <td>10526.551774</td>\n",
       "      <td>13493.373601</td>\n",
       "      <td>18625.524959</td>\n",
       "      <td>990.393244</td>\n",
       "      <td>2358.355267</td>\n",
       "      <td>141484.862943</td>\n",
       "      <td>14607.291320</td>\n",
       "    </tr>\n",
       "    <tr>\n",
       "      <th>3</th>\n",
       "      <td>2017-12-31</td>\n",
       "      <td>12448.273944</td>\n",
       "      <td>7981.251951</td>\n",
       "      <td>17202.263140</td>\n",
       "      <td>972.943301</td>\n",
       "      <td>2026.426759</td>\n",
       "      <td>98178.051413</td>\n",
       "      <td>13881.038744</td>\n",
       "    </tr>\n",
       "    <tr>\n",
       "      <th>4</th>\n",
       "      <td>2018-03-31</td>\n",
       "      <td>11274.710878</td>\n",
       "      <td>6085.370679</td>\n",
       "      <td>12385.983142</td>\n",
       "      <td>947.993757</td>\n",
       "      <td>2251.090094</td>\n",
       "      <td>97015.122267</td>\n",
       "      <td>13159.629749</td>\n",
       "    </tr>\n",
       "  </tbody>\n",
       "</table>\n",
       "</div>"
      ],
      "text/plain": [
       "       DATES     U Revenue          D CR          U OE        U NOI  \\\n",
       "0 2017-03-31  16619.744506  15250.074242  21509.084891  1068.570674   \n",
       "1 2017-06-30  16978.147446  15561.343148  18625.524959  1019.411726   \n",
       "2 2017-09-30  10526.551774  13493.373601  18625.524959   990.393244   \n",
       "3 2017-12-31  12448.273944   7981.251951  17202.263140   972.943301   \n",
       "4 2018-03-31  11274.710878   6085.370679  12385.983142   947.993757   \n",
       "\n",
       "       D CAPEX           D WK         U FCF  \n",
       "0  2905.476331  142273.390052  16163.666714  \n",
       "1  2822.447887  131877.341625  15494.099834  \n",
       "2  2358.355267  141484.862943  14607.291320  \n",
       "3  2026.426759   98178.051413  13881.038744  \n",
       "4  2251.090094   97015.122267  13159.629749  "
      ]
     },
     "execution_count": 4,
     "metadata": {},
     "output_type": "execute_result"
    }
   ],
   "source": [
    "df = pd.read_csv(currentFile/filename)\n",
    "df[ 'DATES' ] = pd.to_datetime(df['DATES'])\n",
    "df.head()"
   ]
  },
  {
   "cell_type": "code",
   "execution_count": 5,
   "metadata": {},
   "outputs": [
    {
     "data": {
      "text/html": [
       "<div>\n",
       "<style scoped>\n",
       "    .dataframe tbody tr th:only-of-type {\n",
       "        vertical-align: middle;\n",
       "    }\n",
       "\n",
       "    .dataframe tbody tr th {\n",
       "        vertical-align: top;\n",
       "    }\n",
       "\n",
       "    .dataframe thead th {\n",
       "        text-align: right;\n",
       "    }\n",
       "</style>\n",
       "<table border=\"1\" class=\"dataframe\">\n",
       "  <thead>\n",
       "    <tr style=\"text-align: right;\">\n",
       "      <th></th>\n",
       "      <th>U Revenue</th>\n",
       "      <th>D CR</th>\n",
       "      <th>U OE</th>\n",
       "      <th>U NOI</th>\n",
       "      <th>D CAPEX</th>\n",
       "      <th>D WK</th>\n",
       "      <th>U FCF</th>\n",
       "    </tr>\n",
       "    <tr>\n",
       "      <th>DATES</th>\n",
       "      <th></th>\n",
       "      <th></th>\n",
       "      <th></th>\n",
       "      <th></th>\n",
       "      <th></th>\n",
       "      <th></th>\n",
       "      <th></th>\n",
       "    </tr>\n",
       "  </thead>\n",
       "  <tbody>\n",
       "    <tr>\n",
       "      <th>2017-04-02</th>\n",
       "      <td>16619.744506</td>\n",
       "      <td>15250.074242</td>\n",
       "      <td>21509.084891</td>\n",
       "      <td>1068.570674</td>\n",
       "      <td>2905.476331</td>\n",
       "      <td>142273.390052</td>\n",
       "      <td>16163.666714</td>\n",
       "    </tr>\n",
       "    <tr>\n",
       "      <th>2017-04-09</th>\n",
       "      <td>NaN</td>\n",
       "      <td>NaN</td>\n",
       "      <td>NaN</td>\n",
       "      <td>NaN</td>\n",
       "      <td>NaN</td>\n",
       "      <td>NaN</td>\n",
       "      <td>NaN</td>\n",
       "    </tr>\n",
       "    <tr>\n",
       "      <th>2017-04-16</th>\n",
       "      <td>NaN</td>\n",
       "      <td>NaN</td>\n",
       "      <td>NaN</td>\n",
       "      <td>NaN</td>\n",
       "      <td>NaN</td>\n",
       "      <td>NaN</td>\n",
       "      <td>NaN</td>\n",
       "    </tr>\n",
       "    <tr>\n",
       "      <th>2017-04-23</th>\n",
       "      <td>NaN</td>\n",
       "      <td>NaN</td>\n",
       "      <td>NaN</td>\n",
       "      <td>NaN</td>\n",
       "      <td>NaN</td>\n",
       "      <td>NaN</td>\n",
       "      <td>NaN</td>\n",
       "    </tr>\n",
       "    <tr>\n",
       "      <th>2017-04-30</th>\n",
       "      <td>NaN</td>\n",
       "      <td>NaN</td>\n",
       "      <td>NaN</td>\n",
       "      <td>NaN</td>\n",
       "      <td>NaN</td>\n",
       "      <td>NaN</td>\n",
       "      <td>NaN</td>\n",
       "    </tr>\n",
       "    <tr>\n",
       "      <th>...</th>\n",
       "      <td>...</td>\n",
       "      <td>...</td>\n",
       "      <td>...</td>\n",
       "      <td>...</td>\n",
       "      <td>...</td>\n",
       "      <td>...</td>\n",
       "      <td>...</td>\n",
       "    </tr>\n",
       "    <tr>\n",
       "      <th>2020-03-08</th>\n",
       "      <td>NaN</td>\n",
       "      <td>NaN</td>\n",
       "      <td>NaN</td>\n",
       "      <td>NaN</td>\n",
       "      <td>NaN</td>\n",
       "      <td>NaN</td>\n",
       "      <td>NaN</td>\n",
       "    </tr>\n",
       "    <tr>\n",
       "      <th>2020-03-15</th>\n",
       "      <td>NaN</td>\n",
       "      <td>NaN</td>\n",
       "      <td>NaN</td>\n",
       "      <td>NaN</td>\n",
       "      <td>NaN</td>\n",
       "      <td>NaN</td>\n",
       "      <td>NaN</td>\n",
       "    </tr>\n",
       "    <tr>\n",
       "      <th>2020-03-22</th>\n",
       "      <td>NaN</td>\n",
       "      <td>NaN</td>\n",
       "      <td>NaN</td>\n",
       "      <td>NaN</td>\n",
       "      <td>NaN</td>\n",
       "      <td>NaN</td>\n",
       "      <td>NaN</td>\n",
       "    </tr>\n",
       "    <tr>\n",
       "      <th>2020-03-29</th>\n",
       "      <td>NaN</td>\n",
       "      <td>NaN</td>\n",
       "      <td>NaN</td>\n",
       "      <td>NaN</td>\n",
       "      <td>NaN</td>\n",
       "      <td>NaN</td>\n",
       "      <td>NaN</td>\n",
       "    </tr>\n",
       "    <tr>\n",
       "      <th>2020-04-05</th>\n",
       "      <td>9575.906760</td>\n",
       "      <td>1680.039945</td>\n",
       "      <td>15774.738297</td>\n",
       "      <td>464.166960</td>\n",
       "      <td>1354.798150</td>\n",
       "      <td>46270.646625</td>\n",
       "      <td>9121.605347</td>\n",
       "    </tr>\n",
       "  </tbody>\n",
       "</table>\n",
       "<p>158 rows × 7 columns</p>\n",
       "</div>"
      ],
      "text/plain": [
       "               U Revenue          D CR          U OE        U NOI  \\\n",
       "DATES                                                               \n",
       "2017-04-02  16619.744506  15250.074242  21509.084891  1068.570674   \n",
       "2017-04-09           NaN           NaN           NaN          NaN   \n",
       "2017-04-16           NaN           NaN           NaN          NaN   \n",
       "2017-04-23           NaN           NaN           NaN          NaN   \n",
       "2017-04-30           NaN           NaN           NaN          NaN   \n",
       "...                  ...           ...           ...          ...   \n",
       "2020-03-08           NaN           NaN           NaN          NaN   \n",
       "2020-03-15           NaN           NaN           NaN          NaN   \n",
       "2020-03-22           NaN           NaN           NaN          NaN   \n",
       "2020-03-29           NaN           NaN           NaN          NaN   \n",
       "2020-04-05   9575.906760   1680.039945  15774.738297   464.166960   \n",
       "\n",
       "                D CAPEX           D WK         U FCF  \n",
       "DATES                                                 \n",
       "2017-04-02  2905.476331  142273.390052  16163.666714  \n",
       "2017-04-09          NaN            NaN           NaN  \n",
       "2017-04-16          NaN            NaN           NaN  \n",
       "2017-04-23          NaN            NaN           NaN  \n",
       "2017-04-30          NaN            NaN           NaN  \n",
       "...                 ...            ...           ...  \n",
       "2020-03-08          NaN            NaN           NaN  \n",
       "2020-03-15          NaN            NaN           NaN  \n",
       "2020-03-22          NaN            NaN           NaN  \n",
       "2020-03-29          NaN            NaN           NaN  \n",
       "2020-04-05  1354.798150   46270.646625   9121.605347  \n",
       "\n",
       "[158 rows x 7 columns]"
      ]
     },
     "execution_count": 5,
     "metadata": {},
     "output_type": "execute_result"
    }
   ],
   "source": [
    "df1 = df.set_index('DATES').resample('1w').mean()\n",
    "df1"
   ]
  },
  {
   "cell_type": "code",
   "execution_count": 6,
   "metadata": {},
   "outputs": [],
   "source": [
    "#df1[df1['D REVENUE'].isna()]"
   ]
  },
  {
   "cell_type": "code",
   "execution_count": 7,
   "metadata": {},
   "outputs": [],
   "source": [
    "#df1['Revenue'].interpolate('linear').plot()\n",
    "#pd.DataFrame(df['Revenue'], index=df['Date']).interpolate(method='time')"
   ]
  },
  {
   "cell_type": "code",
   "execution_count": 8,
   "metadata": {},
   "outputs": [
    {
     "data": {
      "text/plain": [
       "<matplotlib.axes._subplots.AxesSubplot at 0x1c6ff87fd48>"
      ]
     },
     "execution_count": 8,
     "metadata": {},
     "output_type": "execute_result"
    },
    {
     "data": {
      "image/png": "[encoded data removed]",
      "text/plain": [
       "<Figure size 432x288 with 1 Axes>"
      ]
     },
     "metadata": {
      "needs_background": "light"
     },
     "output_type": "display_data"
    }
   ],
   "source": [
    "df1['U Revenue'].interpolate('linear').plot()"
   ]
  },
  {
   "cell_type": "code",
   "execution_count": 9,
   "metadata": {},
   "outputs": [
    {
     "data": {
      "text/plain": [
       "<matplotlib.axes._subplots.AxesSubplot at 0x1c6ff9f1748>"
      ]
     },
     "execution_count": 9,
     "metadata": {},
     "output_type": "execute_result"
    },
    {
     "data": {
      "image/png": "[encoded data removed]",
      "text/plain": [
       "<Figure size 432x288 with 1 Axes>"
      ]
     },
     "metadata": {
      "needs_background": "light"
     },
     "output_type": "display_data"
    }
   ],
   "source": [
    "df1['U OE'].interpolate('linear').plot()"
   ]
  },
  {
   "cell_type": "code",
   "execution_count": 10,
   "metadata": {},
   "outputs": [
    {
     "data": {
      "text/plain": [
       "<matplotlib.axes._subplots.AxesSubplot at 0x1c6ffaab388>"
      ]
     },
     "execution_count": 10,
     "metadata": {},
     "output_type": "execute_result"
    },
    {
     "data": {
      "image/png": "[encoded data removed]",
      "text/plain": [
       "<Figure size 432x288 with 1 Axes>"
      ]
     },
     "metadata": {
      "needs_background": "light"
     },
     "output_type": "display_data"
    }
   ],
   "source": [
    "df1['D CR'].interpolate('linear').plot()"
   ]
  },
  {
   "cell_type": "code",
   "execution_count": 11,
   "metadata": {},
   "outputs": [
    {
     "data": {
      "text/plain": [
       "<matplotlib.axes._subplots.AxesSubplot at 0x1c6ffb73d88>"
      ]
     },
     "execution_count": 11,
     "metadata": {},
     "output_type": "execute_result"
    },
    {
     "data": {
      "image/png": "[encoded data removed]",
      "text/plain": [
       "<Figure size 432x288 with 1 Axes>"
      ]
     },
     "metadata": {
      "needs_background": "light"
     },
     "output_type": "display_data"
    }
   ],
   "source": [
    "df1['D NOI'].interpolate('linear').plot()"
   ]
  },
  {
   "cell_type": "code",
   "execution_count": 12,
   "metadata": {},
   "outputs": [
    {
     "data": {
      "text/plain": [
       "<matplotlib.axes._subplots.AxesSubplot at 0x1c6ffab6208>"
      ]
     },
     "execution_count": 12,
     "metadata": {},
     "output_type": "execute_result"
    },
    {
     "data": {
      "image/png": "[encoded data removed]",
      "text/plain": [
       "<Figure size 432x288 with 1 Axes>"
      ]
     },
     "metadata": {
      "needs_background": "light"
     },
     "output_type": "display_data"
    }
   ],
   "source": [
    "df1['D CAPEX'].interpolate('linear').plot()"
   ]
  },
  {
   "cell_type": "code",
   "execution_count": 13,
   "metadata": {},
   "outputs": [
    {
     "data": {
      "text/plain": [
       "<matplotlib.axes._subplots.AxesSubplot at 0x1c6ffb6a408>"
      ]
     },
     "execution_count": 13,
     "metadata": {},
     "output_type": "execute_result"
    },
    {
     "data": {
      "image/png": "[encoded data removed]",
      "text/plain": [
       "<Figure size 432x288 with 1 Axes>"
      ]
     },
     "metadata": {
      "needs_background": "light"
     },
     "output_type": "display_data"
    }
   ],
   "source": [
    "df1['D WK'].interpolate('linear').plot()"
   ]
  },
  {
   "cell_type": "code",
   "execution_count": 14,
   "metadata": {},
   "outputs": [
    {
     "data": {
      "text/plain": [
       "<matplotlib.axes._subplots.AxesSubplot at 0x1c6ffd9bd48>"
      ]
     },
     "execution_count": 14,
     "metadata": {},
     "output_type": "execute_result"
    },
    {
     "data": {
      "image/png": "[encoded data removed]",
      "text/plain": [
       "<Figure size 432x288 with 1 Axes>"
      ]
     },
     "metadata": {
      "needs_background": "light"
     },
     "output_type": "display_data"
    }
   ],
   "source": [
    "df1['U FCF'].interpolate('linear').plot()"
   ]
  },
  {
   "cell_type": "code",
   "execution_count": 15,
   "metadata": {},
   "outputs": [],
   "source": [
    "df1['U Revenue'] = df1['U Revenue'].interpolate('linear')\n",
    "df1['D CR'] = df1['D CR'].interpolate('linear')\n",
    "df1['U OE'] = df1['U OE'].interpolate('linear')\n",
    "df1['D NOI'] = df1['D NOI'].interpolate('linear')\n",
    "df1['D CAPEX'] = df1['D CAPEX'].interpolate('linear')\n",
    "df1['D WK'] = df1['D WK'].interpolate('linear')\n",
    "df1['U FCF'] = df1['U FCF'].interpolate('linear')"
   ]
  },
  {
   "cell_type": "code",
   "execution_count": 16,
   "metadata": {},
   "outputs": [
    {
     "data": {
      "text/plain": [
       "<bound method DataFrame.info of                U Revenue          D CR          U OE        U NOI  \\\n",
       "DATES                                                               \n",
       "2017-04-02  16619.744506  15250.074242  21509.084891  1068.570674   \n",
       "2017-04-09  16647.313963  15274.018004  21287.272588  1064.789217   \n",
       "2017-04-16  16674.883420  15297.961766  21065.460286  1061.007759   \n",
       "2017-04-23  16702.452877  15321.905528  20843.647984  1057.226302   \n",
       "2017-04-30  16730.022334  15345.849290  20621.835681  1053.444844   \n",
       "...                  ...           ...           ...          ...   \n",
       "2020-03-08   9912.723363   1680.039945  17727.057745   521.863692   \n",
       "2020-03-15   9828.519212   1680.039945  17238.977883   507.439509   \n",
       "2020-03-22   9744.315061   1680.039945  16750.898021   493.015326   \n",
       "2020-03-29   9660.110911   1680.039945  16262.818159   478.591143   \n",
       "2020-04-05   9575.906760   1680.039945  15774.738297   464.166960   \n",
       "\n",
       "                D CAPEX           D WK         U FCF  \n",
       "DATES                                                 \n",
       "2017-04-02  2905.476331  142273.390052  16163.666714  \n",
       "2017-04-09  2899.089528  141473.694019  16112.161570  \n",
       "2017-04-16  2892.702724  140673.997986  16060.656425  \n",
       "2017-04-23  2886.315921  139874.301954  16009.151280  \n",
       "2017-04-30  2879.929117  139074.605921  15957.646136  \n",
       "...                 ...            ...           ...  \n",
       "2020-03-08  1354.798150   44705.883896   9560.717482  \n",
       "2020-03-15  1354.798150   45097.074578   9450.939449  \n",
       "2020-03-22  1354.798150   45488.265260   9341.161415  \n",
       "2020-03-29  1354.798150   45879.455942   9231.383381  \n",
       "2020-04-05  1354.798150   46270.646625   9121.605347  \n",
       "\n",
       "[158 rows x 7 columns]>"
      ]
     },
     "execution_count": 16,
     "metadata": {},
     "output_type": "execute_result"
    }
   ],
   "source": [
    "df1.info"
   ]
  },
  {
   "cell_type": "code",
   "execution_count": 17,
   "metadata": {},
   "outputs": [
    {
     "data": {
      "text/plain": [
       "WindowsPath('FEYE/InterpolatedNumWeekFEYE.csv')"
      ]
     },
     "execution_count": 17,
     "metadata": {},
     "output_type": "execute_result"
    }
   ],
   "source": [
    "outfile = 'InterpolatedNumWeek' + str(currentFile) + '.csv'\n",
    "currentFile/outfile"
   ]
  },
  {
   "cell_type": "code",
   "execution_count": 18,
   "metadata": {},
   "outputs": [],
   "source": [
    "df1.to_csv(currentFile/outfile)\n",
    "#df1.to_csv(\"InterpolatedNumWeekCHKP.csv\")"
   ]
  },
  {
   "cell_type": "code",
   "execution_count": 19,
   "metadata": {},
   "outputs": [],
   "source": [
    "num = pd.read_csv(currentFile/outfile)"
   ]
  },
  {
   "cell_type": "code",
   "execution_count": 20,
   "metadata": {},
   "outputs": [
    {
     "data": {
      "text/plain": [
       "<bound method DataFrame.info of           DATES     U Revenue          D CR          U OE        U NOI  \\\n",
       "0    2017-04-02  16619.744506  15250.074242  21509.084891  1068.570674   \n",
       "1    2017-04-09  16647.313963  15274.018004  21287.272588  1064.789217   \n",
       "2    2017-04-16  16674.883420  15297.961766  21065.460286  1061.007759   \n",
       "3    2017-04-23  16702.452877  15321.905528  20843.647984  1057.226302   \n",
       "4    2017-04-30  16730.022334  15345.849290  20621.835681  1053.444844   \n",
       "..          ...           ...           ...           ...          ...   \n",
       "153  2020-03-08   9912.723363   1680.039945  17727.057745   521.863692   \n",
       "154  2020-03-15   9828.519212   1680.039945  17238.977883   507.439509   \n",
       "155  2020-03-22   9744.315061   1680.039945  16750.898021   493.015326   \n",
       "156  2020-03-29   9660.110911   1680.039945  16262.818159   478.591143   \n",
       "157  2020-04-05   9575.906760   1680.039945  15774.738297   464.166960   \n",
       "\n",
       "         D CAPEX           D WK         U FCF  \n",
       "0    2905.476331  142273.390052  16163.666714  \n",
       "1    2899.089528  141473.694019  16112.161570  \n",
       "2    2892.702724  140673.997986  16060.656425  \n",
       "3    2886.315921  139874.301954  16009.151280  \n",
       "4    2879.929117  139074.605921  15957.646136  \n",
       "..           ...            ...           ...  \n",
       "153  1354.798150   44705.883896   9560.717482  \n",
       "154  1354.798150   45097.074578   9450.939449  \n",
       "155  1354.798150   45488.265260   9341.161415  \n",
       "156  1354.798150   45879.455942   9231.383381  \n",
       "157  1354.798150   46270.646625   9121.605347  \n",
       "\n",
       "[158 rows x 8 columns]>"
      ]
     },
     "execution_count": 20,
     "metadata": {},
     "output_type": "execute_result"
    }
   ],
   "source": [
    "num.info"
   ]
  },
  {
   "cell_type": "code",
   "execution_count": null,
   "metadata": {},
   "outputs": [],
   "source": []
  },
  {
   "cell_type": "code",
   "execution_count": null,
   "metadata": {},
   "outputs": [],
   "source": []
  }
 ],
 "metadata": {
  "kernelspec": {
   "display_name": "Python 3",
   "language": "python",
   "name": "python3"
  },
  "language_info": {
   "codemirror_mode": {
    "name": "ipython",
    "version": 3
   },
   "file_extension": ".py",
   "mimetype": "text/x-python",
   "name": "python",
   "nbconvert_exporter": "python",
   "pygments_lexer": "ipython3",
   "version": "3.7.7"
  }
 },
 "nbformat": 4,
 "nbformat_minor": 4
}
